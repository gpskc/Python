{
 "cells": [
  {
   "cell_type": "markdown",
   "metadata": {},
   "source": [
    "### Library Import"
   ]
  },
  {
   "cell_type": "code",
   "execution_count": 1,
   "metadata": {},
   "outputs": [],
   "source": [
    "import math\n",
    "import numpy as np\n",
    "import pandas as pd\n",
    "import hashlib as hl"
   ]
  },
  {
   "cell_type": "markdown",
   "metadata": {},
   "source": [
    "### Data Import"
   ]
  },
  {
   "cell_type": "code",
   "execution_count": 2,
   "metadata": {},
   "outputs": [
    {
     "data": {
      "text/html": [
       "<div>\n",
       "<style scoped>\n",
       "    .dataframe tbody tr th:only-of-type {\n",
       "        vertical-align: middle;\n",
       "    }\n",
       "\n",
       "    .dataframe tbody tr th {\n",
       "        vertical-align: top;\n",
       "    }\n",
       "\n",
       "    .dataframe thead th {\n",
       "        text-align: right;\n",
       "    }\n",
       "</style>\n",
       "<table border=\"1\" class=\"dataframe\">\n",
       "  <thead>\n",
       "    <tr style=\"text-align: right;\">\n",
       "      <th></th>\n",
       "      <th>z</th>\n",
       "    </tr>\n",
       "  </thead>\n",
       "  <tbody>\n",
       "    <tr>\n",
       "      <th>count</th>\n",
       "      <td>200.000000</td>\n",
       "    </tr>\n",
       "    <tr>\n",
       "      <th>mean</th>\n",
       "      <td>-8.725276</td>\n",
       "    </tr>\n",
       "    <tr>\n",
       "      <th>std</th>\n",
       "      <td>1.011065</td>\n",
       "    </tr>\n",
       "    <tr>\n",
       "      <th>min</th>\n",
       "      <td>-9.524298</td>\n",
       "    </tr>\n",
       "    <tr>\n",
       "      <th>25%</th>\n",
       "      <td>-9.385453</td>\n",
       "    </tr>\n",
       "    <tr>\n",
       "      <th>50%</th>\n",
       "      <td>-8.970802</td>\n",
       "    </tr>\n",
       "    <tr>\n",
       "      <th>75%</th>\n",
       "      <td>-8.373185</td>\n",
       "    </tr>\n",
       "    <tr>\n",
       "      <th>max</th>\n",
       "      <td>-3.680400</td>\n",
       "    </tr>\n",
       "  </tbody>\n",
       "</table>\n",
       "</div>"
      ],
      "text/plain": [
       "                z\n",
       "count  200.000000\n",
       "mean    -8.725276\n",
       "std      1.011065\n",
       "min     -9.524298\n",
       "25%     -9.385453\n",
       "50%     -8.970802\n",
       "75%     -8.373185\n",
       "max     -3.680400"
      ]
     },
     "execution_count": 2,
     "metadata": {},
     "output_type": "execute_result"
    }
   ],
   "source": [
    "df = pd.read_csv('exam2.csv')\n",
    "df = df.loc[df['hash']==hl.md5('pcg180000'.encode('utf-8')).hexdigest()]\n",
    "df = df.iloc[:,1:].T\n",
    "# Assuming unscaled dataset as z\n",
    "df.columns = ['z']\n",
    "df.describe()"
   ]
  },
  {
   "cell_type": "markdown",
   "metadata": {},
   "source": [
    "### Estimation"
   ]
  },
  {
   "cell_type": "code",
   "execution_count": 3,
   "metadata": {},
   "outputs": [],
   "source": [
    "# Taking min and max of z as initial lower and upper bounds\n",
    "z = df.values\n",
    "zlb = z.min()\n",
    "zub = z.max()\n",
    "\n",
    "for i in range(10):\n",
    "    # Scaling z to x\n",
    "    x = (z-zlb)/(zub-zlb)\n",
    "    x = x[x>0]\n",
    "    x = x[x<1]\n",
    "    n = x.shape[0]\n",
    "    x = np.reshape(x,(n,1))\n",
    "\n",
    "    a = 1 #Assumption\n",
    "    for i in range(100):\n",
    "        db = np.log(1-(x**a))\n",
    "        b  = -n/db.sum()\n",
    "        da = np.log(x)*(1-(np.multiply(x**a,b)))/(1-(x**a))\n",
    "        a  = -n/da.sum()\n",
    "\n",
    "    # Order statistics to get new bounds for scaled distribution\n",
    "    x1 = n*a*b*(np.power(x.min(),a))*(np.power(1-np.power(x.min(),a),(b*n)-1))\n",
    "    xn = n*a*b*(np.power(x.max(),a))*(np.power(1-np.power(x.max(),a),b-1))*(np.power(1-np.power(1-x.max(),b),n-1))\n",
    "\n",
    "    # Solving lower and upper bounds for unscaled z distribution\n",
    "    p = [[1-x1,x1],[1-xn,xn]]\n",
    "    q = [[z.min()],[z.max()]]\n",
    "    zlb = np.linalg.solve(p,q)[0]\n",
    "    zub = np.linalg.solve(p,q)[1]"
   ]
  },
  {
   "cell_type": "markdown",
   "metadata": {},
   "source": [
    "### Parameters and Bounds"
   ]
  },
  {
   "cell_type": "code",
   "execution_count": 4,
   "metadata": {},
   "outputs": [
    {
     "name": "stdout",
     "output_type": "stream",
     "text": [
      "Parameter a = 0.6989828379084404 and Parameter b = 1.1665075539647058\n",
      "Lower Bound = [-9.524332] and Upper Bound = [-9.30711047]\n"
     ]
    }
   ],
   "source": [
    "print('Parameter a =',a,'and Parameter b =',b)\n",
    "print('Lower Bound =',zlb,'and Upper Bound =',zub)"
   ]
  }
 ],
 "metadata": {
  "kernelspec": {
   "display_name": "Python 3",
   "language": "python",
   "name": "python3"
  },
  "language_info": {
   "codemirror_mode": {
    "name": "ipython",
    "version": 3
   },
   "file_extension": ".py",
   "mimetype": "text/x-python",
   "name": "python",
   "nbconvert_exporter": "python",
   "pygments_lexer": "ipython3",
   "version": "3.7.3"
  }
 },
 "nbformat": 4,
 "nbformat_minor": 2
}
